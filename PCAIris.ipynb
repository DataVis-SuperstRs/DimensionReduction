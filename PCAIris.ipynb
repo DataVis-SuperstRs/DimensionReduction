{
  "nbformat": 4,
  "nbformat_minor": 0,
  "metadata": {
    "colab": {
      "name": "PCAIrisipynb",
      "version": "0.3.2",
      "views": {},
      "default_view": {},
      "provenance": []
    },
    "kernelspec": {
      "name": "python3",
      "display_name": "Python 3"
    }
  },
  "cells": [
    {
      "metadata": {
        "id": "ZWbIvqj6ANYP",
        "colab_type": "text"
      },
      "cell_type": "markdown",
      "source": [
        "**Principle Component Analysis (PCA) for Data Visualization**"
      ]
    },
    {
      "metadata": {
        "id": "WjyvSv1TAQdc",
        "colab_type": "code",
        "colab": {
          "autoexec": {
            "startup": false,
            "wait_interval": 0
          },
          "base_uri": "https://localhost:8080/",
          "height": 37
        },
        "outputId": "efd7015c-f74a-49ac-c281-49683e5f3362",
        "executionInfo": {
          "status": "ok",
          "timestamp": 1530787120798,
          "user_tz": -120,
          "elapsed": 509,
          "user": {
            "displayName": "Ana Maria Sandoval Jimenez",
            "photoUrl": "https://lh3.googleusercontent.com/a/default-user=s128",
            "userId": "111596273198388826900"
          }
        }
      },
      "cell_type": "code",
      "source": [
        "import pandas as pd \n",
        "import numpy as np\n",
        "import matplotlib.pyplot as plt\n",
        "from sklearn.decomposition import PCA\n",
        "from sklearn.preprocessing import StandardScaler\n",
        "%matplotlib inline"
      ],
      "execution_count": 2,
      "outputs": []
    },
    {
      "metadata": {
        "id": "97BueghsAdsk",
        "colab_type": "text"
      },
      "cell_type": "markdown",
      "source": [
        "Load Iris Dataset"
      ]
    },
    {
      "metadata": {
        "id": "tzwSW0deAc8d",
        "colab_type": "code",
        "colab": {
          "autoexec": {
            "startup": false,
            "wait_interval": 0
          },
          "base_uri": "https://localhost:8080/",
          "height": 37
        },
        "outputId": "cb55262a-9d3f-4ccd-99ab-d1bae62729fd",
        "executionInfo": {
          "status": "ok",
          "timestamp": 1530787126641,
          "user_tz": -120,
          "elapsed": 511,
          "user": {
            "displayName": "Ana Maria Sandoval Jimenez",
            "photoUrl": "https://lh3.googleusercontent.com/a/default-user=s128",
            "userId": "111596273198388826900"
          }
        }
      },
      "cell_type": "code",
      "source": [
        "url = \"https://archive.ics.uci.edu/ml/machine-learning-databases/iris/iris.data\""
      ],
      "execution_count": 3,
      "outputs": []
    },
    {
      "metadata": {
        "id": "i97ySeRpAkds",
        "colab_type": "code",
        "colab": {
          "autoexec": {
            "startup": false,
            "wait_interval": 0
          },
          "base_uri": "https://localhost:8080/",
          "height": 37
        },
        "outputId": "b2f994ca-a650-4267-ed2b-29f062a9acf9",
        "executionInfo": {
          "status": "ok",
          "timestamp": 1530787132436,
          "user_tz": -120,
          "elapsed": 2092,
          "user": {
            "displayName": "Ana Maria Sandoval Jimenez",
            "photoUrl": "https://lh3.googleusercontent.com/a/default-user=s128",
            "userId": "111596273198388826900"
          }
        }
      },
      "cell_type": "code",
      "source": [
        "# loading dataset into Pandas DataFrame\n",
        "df = pd.read_csv(url\n",
        "                 , names=['sepal length','sepal width','petal length','petal width','target'])"
      ],
      "execution_count": 4,
      "outputs": []
    },
    {
      "metadata": {
        "id": "0GF84ojWAm2M",
        "colab_type": "code",
        "colab": {
          "autoexec": {
            "startup": false,
            "wait_interval": 0
          },
          "base_uri": "https://localhost:8080/",
          "height": 195
        },
        "outputId": "98dd24da-8813-47db-be23-09151daca18a",
        "executionInfo": {
          "status": "ok",
          "timestamp": 1530787136980,
          "user_tz": -120,
          "elapsed": 508,
          "user": {
            "displayName": "Ana Maria Sandoval Jimenez",
            "photoUrl": "https://lh3.googleusercontent.com/a/default-user=s128",
            "userId": "111596273198388826900"
          }
        }
      },
      "cell_type": "code",
      "source": [
        "df.head()"
      ],
      "execution_count": 5,
      "outputs": [
        {
          "output_type": "execute_result",
          "data": {
            "text/html": [
              "<div>\n",
              "<style scoped>\n",
              "    .dataframe tbody tr th:only-of-type {\n",
              "        vertical-align: middle;\n",
              "    }\n",
              "\n",
              "    .dataframe tbody tr th {\n",
              "        vertical-align: top;\n",
              "    }\n",
              "\n",
              "    .dataframe thead th {\n",
              "        text-align: right;\n",
              "    }\n",
              "</style>\n",
              "<table border=\"1\" class=\"dataframe\">\n",
              "  <thead>\n",
              "    <tr style=\"text-align: right;\">\n",
              "      <th></th>\n",
              "      <th>sepal length</th>\n",
              "      <th>sepal width</th>\n",
              "      <th>petal length</th>\n",
              "      <th>petal width</th>\n",
              "      <th>target</th>\n",
              "    </tr>\n",
              "  </thead>\n",
              "  <tbody>\n",
              "    <tr>\n",
              "      <th>0</th>\n",
              "      <td>5.1</td>\n",
              "      <td>3.5</td>\n",
              "      <td>1.4</td>\n",
              "      <td>0.2</td>\n",
              "      <td>Iris-setosa</td>\n",
              "    </tr>\n",
              "    <tr>\n",
              "      <th>1</th>\n",
              "      <td>4.9</td>\n",
              "      <td>3.0</td>\n",
              "      <td>1.4</td>\n",
              "      <td>0.2</td>\n",
              "      <td>Iris-setosa</td>\n",
              "    </tr>\n",
              "    <tr>\n",
              "      <th>2</th>\n",
              "      <td>4.7</td>\n",
              "      <td>3.2</td>\n",
              "      <td>1.3</td>\n",
              "      <td>0.2</td>\n",
              "      <td>Iris-setosa</td>\n",
              "    </tr>\n",
              "    <tr>\n",
              "      <th>3</th>\n",
              "      <td>4.6</td>\n",
              "      <td>3.1</td>\n",
              "      <td>1.5</td>\n",
              "      <td>0.2</td>\n",
              "      <td>Iris-setosa</td>\n",
              "    </tr>\n",
              "    <tr>\n",
              "      <th>4</th>\n",
              "      <td>5.0</td>\n",
              "      <td>3.6</td>\n",
              "      <td>1.4</td>\n",
              "      <td>0.2</td>\n",
              "      <td>Iris-setosa</td>\n",
              "    </tr>\n",
              "  </tbody>\n",
              "</table>\n",
              "</div>"
            ],
            "text/plain": [
              "   sepal length  sepal width  petal length  petal width       target\n",
              "0           5.1          3.5           1.4          0.2  Iris-setosa\n",
              "1           4.9          3.0           1.4          0.2  Iris-setosa\n",
              "2           4.7          3.2           1.3          0.2  Iris-setosa\n",
              "3           4.6          3.1           1.5          0.2  Iris-setosa\n",
              "4           5.0          3.6           1.4          0.2  Iris-setosa"
            ]
          },
          "metadata": {
            "tags": []
          },
          "execution_count": 5
        }
      ]
    },
    {
      "metadata": {
        "id": "OqlqqKmMApG9",
        "colab_type": "text"
      },
      "cell_type": "markdown",
      "source": [
        "Standardize the Data"
      ]
    },
    {
      "metadata": {
        "id": "ofFSHuSRApsW",
        "colab_type": "code",
        "colab": {
          "autoexec": {
            "startup": false,
            "wait_interval": 0
          },
          "base_uri": "https://localhost:8080/",
          "height": 37
        },
        "outputId": "3fa843d9-ddab-4e72-ff9a-67abd731bebb",
        "executionInfo": {
          "status": "ok",
          "timestamp": 1530787141583,
          "user_tz": -120,
          "elapsed": 495,
          "user": {
            "displayName": "Ana Maria Sandoval Jimenez",
            "photoUrl": "https://lh3.googleusercontent.com/a/default-user=s128",
            "userId": "111596273198388826900"
          }
        }
      },
      "cell_type": "code",
      "source": [
        "features = ['sepal length', 'sepal width', 'petal length', 'petal width']\n",
        "x = df.loc[:, features].values"
      ],
      "execution_count": 6,
      "outputs": []
    },
    {
      "metadata": {
        "id": "XIo1hh5vAr0d",
        "colab_type": "code",
        "colab": {
          "autoexec": {
            "startup": false,
            "wait_interval": 0
          },
          "base_uri": "https://localhost:8080/",
          "height": 17
        },
        "outputId": "4f426ed3-0999-426e-cc56-d4d1f1f88467",
        "executionInfo": {
          "status": "ok",
          "timestamp": 1530787322843,
          "user_tz": -120,
          "elapsed": 521,
          "user": {
            "displayName": "Ana Maria Sandoval Jimenez",
            "photoUrl": "https://lh3.googleusercontent.com/a/default-user=s128",
            "userId": "111596273198388826900"
          }
        }
      },
      "cell_type": "code",
      "source": [
        "y = df.loc[:,['target']].values\n"
      ],
      "execution_count": 9,
      "outputs": []
    },
    {
      "metadata": {
        "id": "FhAn7sUmAv2e",
        "colab_type": "code",
        "colab": {
          "autoexec": {
            "startup": false,
            "wait_interval": 0
          },
          "base_uri": "https://localhost:8080/",
          "height": 37
        },
        "outputId": "0825c02b-a813-4849-ef8f-ab48c8658154",
        "executionInfo": {
          "status": "ok",
          "timestamp": 1530787326309,
          "user_tz": -120,
          "elapsed": 387,
          "user": {
            "displayName": "Ana Maria Sandoval Jimenez",
            "photoUrl": "https://lh3.googleusercontent.com/a/default-user=s128",
            "userId": "111596273198388826900"
          }
        }
      },
      "cell_type": "code",
      "source": [
        "x = StandardScaler().fit_transform(x)"
      ],
      "execution_count": 10,
      "outputs": []
    },
    {
      "metadata": {
        "id": "hstSGq9IAyDm",
        "colab_type": "code",
        "colab": {
          "autoexec": {
            "startup": false,
            "wait_interval": 0
          },
          "base_uri": "https://localhost:8080/",
          "height": 195
        },
        "outputId": "cc18463c-f354-49af-c7bc-ffcb730d1872",
        "executionInfo": {
          "status": "ok",
          "timestamp": 1530787328223,
          "user_tz": -120,
          "elapsed": 533,
          "user": {
            "displayName": "Ana Maria Sandoval Jimenez",
            "photoUrl": "https://lh3.googleusercontent.com/a/default-user=s128",
            "userId": "111596273198388826900"
          }
        }
      },
      "cell_type": "code",
      "source": [
        "pd.DataFrame(data = x, columns = features).head()"
      ],
      "execution_count": 11,
      "outputs": [
        {
          "output_type": "execute_result",
          "data": {
            "text/html": [
              "<div>\n",
              "<style scoped>\n",
              "    .dataframe tbody tr th:only-of-type {\n",
              "        vertical-align: middle;\n",
              "    }\n",
              "\n",
              "    .dataframe tbody tr th {\n",
              "        vertical-align: top;\n",
              "    }\n",
              "\n",
              "    .dataframe thead th {\n",
              "        text-align: right;\n",
              "    }\n",
              "</style>\n",
              "<table border=\"1\" class=\"dataframe\">\n",
              "  <thead>\n",
              "    <tr style=\"text-align: right;\">\n",
              "      <th></th>\n",
              "      <th>sepal length</th>\n",
              "      <th>sepal width</th>\n",
              "      <th>petal length</th>\n",
              "      <th>petal width</th>\n",
              "    </tr>\n",
              "  </thead>\n",
              "  <tbody>\n",
              "    <tr>\n",
              "      <th>0</th>\n",
              "      <td>-0.900681</td>\n",
              "      <td>1.032057</td>\n",
              "      <td>-1.341272</td>\n",
              "      <td>-1.312977</td>\n",
              "    </tr>\n",
              "    <tr>\n",
              "      <th>1</th>\n",
              "      <td>-1.143017</td>\n",
              "      <td>-0.124958</td>\n",
              "      <td>-1.341272</td>\n",
              "      <td>-1.312977</td>\n",
              "    </tr>\n",
              "    <tr>\n",
              "      <th>2</th>\n",
              "      <td>-1.385353</td>\n",
              "      <td>0.337848</td>\n",
              "      <td>-1.398138</td>\n",
              "      <td>-1.312977</td>\n",
              "    </tr>\n",
              "    <tr>\n",
              "      <th>3</th>\n",
              "      <td>-1.506521</td>\n",
              "      <td>0.106445</td>\n",
              "      <td>-1.284407</td>\n",
              "      <td>-1.312977</td>\n",
              "    </tr>\n",
              "    <tr>\n",
              "      <th>4</th>\n",
              "      <td>-1.021849</td>\n",
              "      <td>1.263460</td>\n",
              "      <td>-1.341272</td>\n",
              "      <td>-1.312977</td>\n",
              "    </tr>\n",
              "  </tbody>\n",
              "</table>\n",
              "</div>"
            ],
            "text/plain": [
              "   sepal length  sepal width  petal length  petal width\n",
              "0     -0.900681     1.032057     -1.341272    -1.312977\n",
              "1     -1.143017    -0.124958     -1.341272    -1.312977\n",
              "2     -1.385353     0.337848     -1.398138    -1.312977\n",
              "3     -1.506521     0.106445     -1.284407    -1.312977\n",
              "4     -1.021849     1.263460     -1.341272    -1.312977"
            ]
          },
          "metadata": {
            "tags": []
          },
          "execution_count": 11
        }
      ]
    },
    {
      "metadata": {
        "id": "7Qj0fMOPA0mW",
        "colab_type": "text"
      },
      "cell_type": "markdown",
      "source": [
        "PCA Projection to 2D"
      ]
    },
    {
      "metadata": {
        "id": "4EUnex0YA1BO",
        "colab_type": "code",
        "colab": {
          "autoexec": {
            "startup": false,
            "wait_interval": 0
          },
          "base_uri": "https://localhost:8080/",
          "height": 37
        },
        "outputId": "7b17856e-3d90-41d1-fc3e-6c8164019f23",
        "executionInfo": {
          "status": "ok",
          "timestamp": 1530787347344,
          "user_tz": -120,
          "elapsed": 508,
          "user": {
            "displayName": "Ana Maria Sandoval Jimenez",
            "photoUrl": "https://lh3.googleusercontent.com/a/default-user=s128",
            "userId": "111596273198388826900"
          }
        }
      },
      "cell_type": "code",
      "source": [
        "\n",
        "pca  =  PCA(n_components =2)"
      ],
      "execution_count": 12,
      "outputs": []
    },
    {
      "metadata": {
        "id": "5TG9AT8iA6_2",
        "colab_type": "code",
        "colab": {
          "autoexec": {
            "startup": false,
            "wait_interval": 0
          },
          "base_uri": "https://localhost:8080/",
          "height": 37
        },
        "outputId": "90297b30-f2ac-4ad1-eb61-351b56fc941f",
        "executionInfo": {
          "status": "ok",
          "timestamp": 1530787354676,
          "user_tz": -120,
          "elapsed": 505,
          "user": {
            "displayName": "Ana Maria Sandoval Jimenez",
            "photoUrl": "https://lh3.googleusercontent.com/a/default-user=s128",
            "userId": "111596273198388826900"
          }
        }
      },
      "cell_type": "code",
      "source": [
        "principalComponents = pca.fit_transform(x)"
      ],
      "execution_count": 13,
      "outputs": []
    },
    {
      "metadata": {
        "id": "BkC6_8yCA9RN",
        "colab_type": "code",
        "colab": {
          "autoexec": {
            "startup": false,
            "wait_interval": 0
          },
          "base_uri": "https://localhost:8080/",
          "height": 37
        },
        "outputId": "6f6bc6b8-bf8a-4194-f77b-cd64949bd6a6",
        "executionInfo": {
          "status": "ok",
          "timestamp": 1530787359863,
          "user_tz": -120,
          "elapsed": 500,
          "user": {
            "displayName": "Ana Maria Sandoval Jimenez",
            "photoUrl": "https://lh3.googleusercontent.com/a/default-user=s128",
            "userId": "111596273198388826900"
          }
        }
      },
      "cell_type": "code",
      "source": [
        "principalDf = pd.DataFrame(data = principalComponents\n",
        "             , columns = ['principal component 1', 'principal component 2'])"
      ],
      "execution_count": 14,
      "outputs": []
    },
    {
      "metadata": {
        "id": "kHGAJHoAA_b2",
        "colab_type": "code",
        "colab": {
          "autoexec": {
            "startup": false,
            "wait_interval": 0
          },
          "base_uri": "https://localhost:8080/",
          "height": 195
        },
        "outputId": "f0c4bd1b-bd3b-4464-b915-9baf74fea05e",
        "executionInfo": {
          "status": "ok",
          "timestamp": 1530787362330,
          "user_tz": -120,
          "elapsed": 536,
          "user": {
            "displayName": "Ana Maria Sandoval Jimenez",
            "photoUrl": "https://lh3.googleusercontent.com/a/default-user=s128",
            "userId": "111596273198388826900"
          }
        }
      },
      "cell_type": "code",
      "source": [
        "principalDf.head(5)"
      ],
      "execution_count": 15,
      "outputs": [
        {
          "output_type": "execute_result",
          "data": {
            "text/html": [
              "<div>\n",
              "<style scoped>\n",
              "    .dataframe tbody tr th:only-of-type {\n",
              "        vertical-align: middle;\n",
              "    }\n",
              "\n",
              "    .dataframe tbody tr th {\n",
              "        vertical-align: top;\n",
              "    }\n",
              "\n",
              "    .dataframe thead th {\n",
              "        text-align: right;\n",
              "    }\n",
              "</style>\n",
              "<table border=\"1\" class=\"dataframe\">\n",
              "  <thead>\n",
              "    <tr style=\"text-align: right;\">\n",
              "      <th></th>\n",
              "      <th>principal component 1</th>\n",
              "      <th>principal component 2</th>\n",
              "    </tr>\n",
              "  </thead>\n",
              "  <tbody>\n",
              "    <tr>\n",
              "      <th>0</th>\n",
              "      <td>-2.264542</td>\n",
              "      <td>0.505704</td>\n",
              "    </tr>\n",
              "    <tr>\n",
              "      <th>1</th>\n",
              "      <td>-2.086426</td>\n",
              "      <td>-0.655405</td>\n",
              "    </tr>\n",
              "    <tr>\n",
              "      <th>2</th>\n",
              "      <td>-2.367950</td>\n",
              "      <td>-0.318477</td>\n",
              "    </tr>\n",
              "    <tr>\n",
              "      <th>3</th>\n",
              "      <td>-2.304197</td>\n",
              "      <td>-0.575368</td>\n",
              "    </tr>\n",
              "    <tr>\n",
              "      <th>4</th>\n",
              "      <td>-2.388777</td>\n",
              "      <td>0.674767</td>\n",
              "    </tr>\n",
              "  </tbody>\n",
              "</table>\n",
              "</div>"
            ],
            "text/plain": [
              "   principal component 1  principal component 2\n",
              "0              -2.264542               0.505704\n",
              "1              -2.086426              -0.655405\n",
              "2              -2.367950              -0.318477\n",
              "3              -2.304197              -0.575368\n",
              "4              -2.388777               0.674767"
            ]
          },
          "metadata": {
            "tags": []
          },
          "execution_count": 15
        }
      ]
    },
    {
      "metadata": {
        "id": "pTazRJhZBBZu",
        "colab_type": "code",
        "colab": {
          "autoexec": {
            "startup": false,
            "wait_interval": 0
          },
          "base_uri": "https://localhost:8080/",
          "height": 195
        },
        "outputId": "e06f508c-036c-4697-db31-27139e1054dd",
        "executionInfo": {
          "status": "ok",
          "timestamp": 1530787365936,
          "user_tz": -120,
          "elapsed": 494,
          "user": {
            "displayName": "Ana Maria Sandoval Jimenez",
            "photoUrl": "https://lh3.googleusercontent.com/a/default-user=s128",
            "userId": "111596273198388826900"
          }
        }
      },
      "cell_type": "code",
      "source": [
        "df[['target']].head()"
      ],
      "execution_count": 16,
      "outputs": [
        {
          "output_type": "execute_result",
          "data": {
            "text/html": [
              "<div>\n",
              "<style scoped>\n",
              "    .dataframe tbody tr th:only-of-type {\n",
              "        vertical-align: middle;\n",
              "    }\n",
              "\n",
              "    .dataframe tbody tr th {\n",
              "        vertical-align: top;\n",
              "    }\n",
              "\n",
              "    .dataframe thead th {\n",
              "        text-align: right;\n",
              "    }\n",
              "</style>\n",
              "<table border=\"1\" class=\"dataframe\">\n",
              "  <thead>\n",
              "    <tr style=\"text-align: right;\">\n",
              "      <th></th>\n",
              "      <th>target</th>\n",
              "    </tr>\n",
              "  </thead>\n",
              "  <tbody>\n",
              "    <tr>\n",
              "      <th>0</th>\n",
              "      <td>Iris-setosa</td>\n",
              "    </tr>\n",
              "    <tr>\n",
              "      <th>1</th>\n",
              "      <td>Iris-setosa</td>\n",
              "    </tr>\n",
              "    <tr>\n",
              "      <th>2</th>\n",
              "      <td>Iris-setosa</td>\n",
              "    </tr>\n",
              "    <tr>\n",
              "      <th>3</th>\n",
              "      <td>Iris-setosa</td>\n",
              "    </tr>\n",
              "    <tr>\n",
              "      <th>4</th>\n",
              "      <td>Iris-setosa</td>\n",
              "    </tr>\n",
              "  </tbody>\n",
              "</table>\n",
              "</div>"
            ],
            "text/plain": [
              "        target\n",
              "0  Iris-setosa\n",
              "1  Iris-setosa\n",
              "2  Iris-setosa\n",
              "3  Iris-setosa\n",
              "4  Iris-setosa"
            ]
          },
          "metadata": {
            "tags": []
          },
          "execution_count": 16
        }
      ]
    },
    {
      "metadata": {
        "id": "7_NFOiPxBDtW",
        "colab_type": "code",
        "colab": {
          "autoexec": {
            "startup": false,
            "wait_interval": 0
          },
          "base_uri": "https://localhost:8080/",
          "height": 195
        },
        "outputId": "43aeba39-8fe0-4707-bb08-b27f0630567a",
        "executionInfo": {
          "status": "ok",
          "timestamp": 1530787369669,
          "user_tz": -120,
          "elapsed": 514,
          "user": {
            "displayName": "Ana Maria Sandoval Jimenez",
            "photoUrl": "https://lh3.googleusercontent.com/a/default-user=s128",
            "userId": "111596273198388826900"
          }
        }
      },
      "cell_type": "code",
      "source": [
        "finalDf = pd.concat([principalDf, df[['target']]], axis = 1)\n",
        "finalDf.head(5)"
      ],
      "execution_count": 17,
      "outputs": [
        {
          "output_type": "execute_result",
          "data": {
            "text/html": [
              "<div>\n",
              "<style scoped>\n",
              "    .dataframe tbody tr th:only-of-type {\n",
              "        vertical-align: middle;\n",
              "    }\n",
              "\n",
              "    .dataframe tbody tr th {\n",
              "        vertical-align: top;\n",
              "    }\n",
              "\n",
              "    .dataframe thead th {\n",
              "        text-align: right;\n",
              "    }\n",
              "</style>\n",
              "<table border=\"1\" class=\"dataframe\">\n",
              "  <thead>\n",
              "    <tr style=\"text-align: right;\">\n",
              "      <th></th>\n",
              "      <th>principal component 1</th>\n",
              "      <th>principal component 2</th>\n",
              "      <th>target</th>\n",
              "    </tr>\n",
              "  </thead>\n",
              "  <tbody>\n",
              "    <tr>\n",
              "      <th>0</th>\n",
              "      <td>-2.264542</td>\n",
              "      <td>0.505704</td>\n",
              "      <td>Iris-setosa</td>\n",
              "    </tr>\n",
              "    <tr>\n",
              "      <th>1</th>\n",
              "      <td>-2.086426</td>\n",
              "      <td>-0.655405</td>\n",
              "      <td>Iris-setosa</td>\n",
              "    </tr>\n",
              "    <tr>\n",
              "      <th>2</th>\n",
              "      <td>-2.367950</td>\n",
              "      <td>-0.318477</td>\n",
              "      <td>Iris-setosa</td>\n",
              "    </tr>\n",
              "    <tr>\n",
              "      <th>3</th>\n",
              "      <td>-2.304197</td>\n",
              "      <td>-0.575368</td>\n",
              "      <td>Iris-setosa</td>\n",
              "    </tr>\n",
              "    <tr>\n",
              "      <th>4</th>\n",
              "      <td>-2.388777</td>\n",
              "      <td>0.674767</td>\n",
              "      <td>Iris-setosa</td>\n",
              "    </tr>\n",
              "  </tbody>\n",
              "</table>\n",
              "</div>"
            ],
            "text/plain": [
              "   principal component 1  principal component 2       target\n",
              "0              -2.264542               0.505704  Iris-setosa\n",
              "1              -2.086426              -0.655405  Iris-setosa\n",
              "2              -2.367950              -0.318477  Iris-setosa\n",
              "3              -2.304197              -0.575368  Iris-setosa\n",
              "4              -2.388777               0.674767  Iris-setosa"
            ]
          },
          "metadata": {
            "tags": []
          },
          "execution_count": 17
        }
      ]
    },
    {
      "metadata": {
        "id": "K4Sxp88CBIGG",
        "colab_type": "text"
      },
      "cell_type": "markdown",
      "source": [
        "Visualize 2D Projection"
      ]
    },
    {
      "metadata": {
        "id": "AFPboCqVBFoW",
        "colab_type": "code",
        "colab": {
          "autoexec": {
            "startup": false,
            "wait_interval": 0
          },
          "base_uri": "https://localhost:8080/",
          "height": 522
        },
        "outputId": "3840ccc5-36fb-4414-d17a-92dcd415075b",
        "executionInfo": {
          "status": "ok",
          "timestamp": 1530787373798,
          "user_tz": -120,
          "elapsed": 787,
          "user": {
            "displayName": "Ana Maria Sandoval Jimenez",
            "photoUrl": "https://lh3.googleusercontent.com/a/default-user=s128",
            "userId": "111596273198388826900"
          }
        }
      },
      "cell_type": "code",
      "source": [
        "fig = plt.figure(figsize = (8,8))\n",
        "ax = fig.add_subplot(1,1,1) \n",
        "ax.set_xlabel('Principal Component 1', fontsize = 15)\n",
        "ax.set_ylabel('Principal Component 2', fontsize = 15)\n",
        "ax.set_title('2 Component PCA', fontsize = 20)\n",
        "\n",
        "\n",
        "targets = ['Iris-setosa', 'Iris-versicolor', 'Iris-virginica']\n",
        "colors = ['r', 'g', 'b']\n",
        "for target, color in zip(targets,colors):\n",
        "    indicesToKeep = finalDf['target'] == target\n",
        "    ax.scatter(finalDf.loc[indicesToKeep, 'principal component 1']\n",
        "               , finalDf.loc[indicesToKeep, 'principal component 2']\n",
        "               , c = color\n",
        "               , s = 50)\n",
        "ax.legend(targets)\n",
        "ax.grid()"
      ],
      "execution_count": 18,
      "outputs": []
    },
    {
      "metadata": {
        "id": "QwIHy3MSBR1v",
        "colab_type": "text"
      },
      "cell_type": "markdown",
      "source": [
        "Explained Variance"
      ]
    },
    {
      "metadata": {
        "id": "jzVJ_87TBT4X",
        "colab_type": "code",
        "colab": {
          "autoexec": {
            "startup": false,
            "wait_interval": 0
          },
          "base_uri": "https://localhost:8080/",
          "height": 34
        },
        "outputId": "7df8652e-60ab-40f7-fef0-a85212f62c1c",
        "executionInfo": {
          "status": "ok",
          "timestamp": 1530787378540,
          "user_tz": -120,
          "elapsed": 521,
          "user": {
            "displayName": "Ana Maria Sandoval Jimenez",
            "photoUrl": "https://lh3.googleusercontent.com/a/default-user=s128",
            "userId": "111596273198388826900"
          }
        }
      },
      "cell_type": "code",
      "source": [
        "pca.explained_variance_ratio_"
      ],
      "execution_count": 19,
      "outputs": [
        {
          "output_type": "execute_result",
          "data": {
            "text/plain": [
              "array([0.72770452, 0.23030523])"
            ]
          },
          "metadata": {
            "tags": []
          },
          "execution_count": 19
        }
      ]
    }
  ]
}
